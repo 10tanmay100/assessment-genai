{
 "cells": [
  {
   "cell_type": "code",
   "execution_count": 2,
   "metadata": {},
   "outputs": [],
   "source": [
    "\n",
    "\n",
    "# questions created for evaluation\n",
    "questions=[\"What was Ratan Tata's early life and education background?\",\n",
    "           \"How did Ratan Tata become involved with the Tata Group?\",\n",
    "           \"What were some of the key acquisitions made by Ratan Tata during his tenure as chairman of Tata Sons?\",\n",
    "           \"What are some of the honors and awards Ratan Tata has received?\",\n",
    "           \"What is Ratan Tata's role in the Tata Group after stepping down as chairman?\"\n",
    "           ]\n",
    "\n",
    "# ground truths created for evalution\n",
    "groud_truths=[\"Ratan Tata graduated from Cornell University College of Architecture with a bachelor's degree in architecture and attended the Harvard Business School (HBS) Advanced Management program in 1975\",\n",
    "              \"Ratan Tata joined the Tata Group in 1962, starting on the shop floor of Tata Steel, and later succeeded J. R. D. Tata as chairman of Tata Sons upon the latter's retirement in 1991.\",\n",
    "              \"During his tenure, the Tata Group acquired Tetley, Jaguar Land Rover, and Corus, in an attempt to turn Tata from a largely India-centric group into a global business.\",\n",
    "              \"Ratan Tata received the Padma Bhushan, the third highest civilian honour in India, in 2000, followed by the Padma Vibhushan, the country's second highest civilian honour, in 2008.\",\n",
    "              \"After stepping down as chairman, Ratan Tata served as the chairman of Tata Group and Tata Sons from 1991 to 2012 and held the position of interim chairman from October 2016 to February 2017.\"]\n",
    "\n",
    "\n",
    "# llm generated answer stored here\n",
    "answer=[\"Ratan Tata was the son of Naval Tata, who was adopted by Ratanji Tata, and he graduated from Cornell University College of Architecture with a bachelor's degree in architecture. He also attended the Harvard Business School Advanced Management program in 1975.\",\n",
    " 'Ratan Tata became involved with the Tata Group by joining in 1962 and starting on the shop floor of Tata Steel. He later succeeded J. R. D. Tata as chairman of Tata Sons in 1991.',\n",
    " 'Some of the key acquisitions made by Ratan Tata during his tenure as chairman of Tata Sons include Tetley, Jaguar Land Rover, and Corus.',\n",
    " 'Ratan Tata received the Padma Bhushan in 2000 and the Padma Vibhushan in 2008.',\n",
    " 'After stepping down as chairman, Ratan Tata remained involved in the Tata Group as an advisor and continued to invest in start-ups.']\n",
    "\n",
    "# context used for those answer are kept here\n",
    "context=[[\"Ratan Tata was the son of Naval Tata, who was adopted by Ratanji Tata, son of Jamshedji Tata, the founder of the Tata Group. He graduated from Cornell University College of Architecture with a bachelor's degree in architecture.[6] He had also attended the Harvard Business School (HBS) Advanced Management program in 1975.[7] He joined the Tata Group in 1962,[8] starting on the shop floor of Tata Steel. He later succeeded J. R. D. Tata as chairman of Tata Sons upon the latter's retirement in 1991. During his tenure, the Tata Group acquired Tetley, Jaguar Land Rover, and Corus, in an attempt to turn Tata from a largely India-centric group into a global business.\",\n",
    "  \"Ratan Naval Tata[a] (28 December 1937 â€“ 9 October 2024) was an Indian industrialist and philanthropist. He served as the chairman of Tata Group and Tata Sons from 1991 to 2012 and he held the position of interim chairman from October 2016 to February 2017.[3][4] In 2000, he received the Padma Bhushan, the third highest civilian honour in India, followed by the Padma Vibhushan, the country's second highest civilian honour, in 2008.[5]\",\n",
    "  'Throughout his life, Tata invested in over 40 start-ups, primarily in a personal capacity, with additional investments through his firm, RNT Capital Advisors.[9][10][11]'],\n",
    " [\"Ratan Tata was the son of Naval Tata, who was adopted by Ratanji Tata, son of Jamshedji Tata, the founder of the Tata Group. He graduated from Cornell University College of Architecture with a bachelor's degree in architecture.[6] He had also attended the Harvard Business School (HBS) Advanced Management program in 1975.[7] He joined the Tata Group in 1962,[8] starting on the shop floor of Tata Steel. He later succeeded J. R. D. Tata as chairman of Tata Sons upon the latter's retirement in 1991. During his tenure, the Tata Group acquired Tetley, Jaguar Land Rover, and Corus, in an attempt to turn Tata from a largely India-centric group into a global business.\",\n",
    "  'Throughout his life, Tata invested in over 40 start-ups, primarily in a personal capacity, with additional investments through his firm, RNT Capital Advisors.[9][10][11]',\n",
    "  \"Ratan Naval Tata[a] (28 December 1937 â€“ 9 October 2024) was an Indian industrialist and philanthropist. He served as the chairman of Tata Group and Tata Sons from 1991 to 2012 and he held the position of interim chairman from October 2016 to February 2017.[3][4] In 2000, he received the Padma Bhushan, the third highest civilian honour in India, followed by the Padma Vibhushan, the country's second highest civilian honour, in 2008.[5]\"],\n",
    " [\"Ratan Tata was the son of Naval Tata, who was adopted by Ratanji Tata, son of Jamshedji Tata, the founder of the Tata Group. He graduated from Cornell University College of Architecture with a bachelor's degree in architecture.[6] He had also attended the Harvard Business School (HBS) Advanced Management program in 1975.[7] He joined the Tata Group in 1962,[8] starting on the shop floor of Tata Steel. He later succeeded J. R. D. Tata as chairman of Tata Sons upon the latter's retirement in 1991. During his tenure, the Tata Group acquired Tetley, Jaguar Land Rover, and Corus, in an attempt to turn Tata from a largely India-centric group into a global business.\",\n",
    "  'Throughout his life, Tata invested in over 40 start-ups, primarily in a personal capacity, with additional investments through his firm, RNT Capital Advisors.[9][10][11]',\n",
    "  \"Ratan Naval Tata[a] (28 December 1937 â€“ 9 October 2024) was an Indian industrialist and philanthropist. He served as the chairman of Tata Group and Tata Sons from 1991 to 2012 and he held the position of interim chairman from October 2016 to February 2017.[3][4] In 2000, he received the Padma Bhushan, the third highest civilian honour in India, followed by the Padma Vibhushan, the country's second highest civilian honour, in 2008.[5]\"],\n",
    " [\"Ratan Naval Tata[a] (28 December 1937 â€“ 9 October 2024) was an Indian industrialist and philanthropist. He served as the chairman of Tata Group and Tata Sons from 1991 to 2012 and he held the position of interim chairman from October 2016 to February 2017.[3][4] In 2000, he received the Padma Bhushan, the third highest civilian honour in India, followed by the Padma Vibhushan, the country's second highest civilian honour, in 2008.[5]\",\n",
    "  \"Ratan Tata was the son of Naval Tata, who was adopted by Ratanji Tata, son of Jamshedji Tata, the founder of the Tata Group. He graduated from Cornell University College of Architecture with a bachelor's degree in architecture.[6] He had also attended the Harvard Business School (HBS) Advanced Management program in 1975.[7] He joined the Tata Group in 1962,[8] starting on the shop floor of Tata Steel. He later succeeded J. R. D. Tata as chairman of Tata Sons upon the latter's retirement in 1991. During his tenure, the Tata Group acquired Tetley, Jaguar Land Rover, and Corus, in an attempt to turn Tata from a largely India-centric group into a global business.\",\n",
    "  'Throughout his life, Tata invested in over 40 start-ups, primarily in a personal capacity, with additional investments through his firm, RNT Capital Advisors.[9][10][11]'],\n",
    " [\"Ratan Naval Tata[a] (28 December 1937 â€“ 9 October 2024) was an Indian industrialist and philanthropist. He served as the chairman of Tata Group and Tata Sons from 1991 to 2012 and he held the position of interim chairman from October 2016 to February 2017.[3][4] In 2000, he received the Padma Bhushan, the third highest civilian honour in India, followed by the Padma Vibhushan, the country's second highest civilian honour, in 2008.[5]\",\n",
    "  \"Ratan Tata was the son of Naval Tata, who was adopted by Ratanji Tata, son of Jamshedji Tata, the founder of the Tata Group. He graduated from Cornell University College of Architecture with a bachelor's degree in architecture.[6] He had also attended the Harvard Business School (HBS) Advanced Management program in 1975.[7] He joined the Tata Group in 1962,[8] starting on the shop floor of Tata Steel. He later succeeded J. R. D. Tata as chairman of Tata Sons upon the latter's retirement in 1991. During his tenure, the Tata Group acquired Tetley, Jaguar Land Rover, and Corus, in an attempt to turn Tata from a largely India-centric group into a global business.\",\n",
    "  'Throughout his life, Tata invested in over 40 start-ups, primarily in a personal capacity, with additional investments through his firm, RNT Capital Advisors.[9][10][11]']]\n",
    "\n",
    "# kepping everyhtung in a dictionary\n",
    "data = {\n",
    "    \"question\": questions,\n",
    "    \"answer\": answer,\n",
    "    \"contexts\": context,\n",
    "    \"ground_truths\": groud_truths,\n",
    "    \"reference\": answer\n",
    "}\n",
    "\n",
    "\n"
   ]
  },
  {
   "cell_type": "code",
   "execution_count": 3,
   "metadata": {},
   "outputs": [],
   "source": [
    "# converting the dictionary into dataset format\n",
    "from datasets import Dataset\n",
    "dataset=Dataset.from_dict(data)\n"
   ]
  },
  {
   "cell_type": "code",
   "execution_count": 4,
   "metadata": {},
   "outputs": [
    {
     "name": "stderr",
     "output_type": "stream",
     "text": [
      "Evaluating:  20%|██        | 4/20 [04:00<25:06, 94.15s/it]Exception raised in Job[8]: TimeoutError()\n",
      "Exception raised in Job[2]: TimeoutError()\n",
      "Exception raised in Job[18]: TimeoutError()\n",
      "Exception raised in Job[6]: TimeoutError()\n",
      "Exception raised in Job[0]: TimeoutError()\n",
      "Exception raised in Job[16]: TimeoutError()\n",
      "Exception raised in Job[12]: TimeoutError()\n",
      "Exception raised in Job[4]: TimeoutError()\n",
      "Evaluating: 100%|██████████| 20/20 [04:05<00:00, 12.29s/it]\n"
     ]
    },
    {
     "name": "stdout",
     "output_type": "stream",
     "text": [
      "{'context_precision': nan, 'context_recall': 0.8000, 'faithfulness': 1.0000, 'answer_relevancy': 0.9609}\n"
     ]
    }
   ],
   "source": [
    "## calling ragas to do different metrics test\n",
    "from ragas import evaluate\n",
    "from ragas.metrics import (\n",
    "    faithfulness,\n",
    "    answer_relevancy,\n",
    "    context_recall,\n",
    "    context_precision,\n",
    ")\n",
    "\n",
    "result=evaluate(\n",
    "    dataset=dataset,\n",
    "    metrics=[\n",
    "        context_precision,\n",
    "        context_recall,\n",
    "        faithfulness,\n",
    "        answer_relevancy\n",
    "    ]\n",
    ")\n",
    "\n",
    "print(result)"
   ]
  },
  {
   "cell_type": "code",
   "execution_count": null,
   "metadata": {},
   "outputs": [],
   "source": []
  },
  {
   "cell_type": "code",
   "execution_count": null,
   "metadata": {},
   "outputs": [],
   "source": []
  },
  {
   "cell_type": "code",
   "execution_count": null,
   "metadata": {},
   "outputs": [],
   "source": []
  },
  {
   "cell_type": "code",
   "execution_count": null,
   "metadata": {},
   "outputs": [],
   "source": []
  }
 ],
 "metadata": {
  "kernelspec": {
   "display_name": "vevnv",
   "language": "python",
   "name": "python3"
  },
  "language_info": {
   "codemirror_mode": {
    "name": "ipython",
    "version": 3
   },
   "file_extension": ".py",
   "mimetype": "text/x-python",
   "name": "python",
   "nbconvert_exporter": "python",
   "pygments_lexer": "ipython3",
   "version": "3.10.0"
  }
 },
 "nbformat": 4,
 "nbformat_minor": 2
}
